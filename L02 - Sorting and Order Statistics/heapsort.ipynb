{
 "cells": [
  {
   "cell_type": "markdown",
   "metadata": {},
   "source": [
    "# Heaps, Heapsort and Priority Queues\n",
    "\n",
    "## Exercises\n",
    "\n",
    "### 6.1-1\n",
    "What are the minimum and maximum numbers of elements in a heap of height _h_?"
   ]
  },
  {
   "cell_type": "markdown",
   "metadata": {},
   "source": [
    "#### Solution\n",
    "Minimum:\n",
    "$$\n",
    "2^0 + 2^1 + 2^2 + ... + 2^{h-1} + 1 = 2^h\n",
    "$$\n",
    "\n",
    "Maximum:\n",
    "$$\n",
    "2^0 + 2^1 + 2^2 + ... + 2^h = 2^{h+1} - 1\n",
    "$$"
   ]
  },
  {
   "cell_type": "markdown",
   "metadata": {},
   "source": [
    "### 6.1-2\n",
    "Show than an _n_-element heap has height $\\lfloor\\lg n\\rfloor$"
   ]
  },
  {
   "cell_type": "markdown",
   "metadata": {},
   "source": [
    "#### Solution\n",
    "\n",
    "By using the above formulas, we can use the minimum and maximum amount of elements to prove this\n",
    "\n",
    "Assuming a heap of $n=6$ elements, we calculate the supposed height and see if it is in the range of the minimum and maximum amount of elements:\n",
    "$$\n",
    "\\lfloor\\lg6\\rfloor=\\lfloor2.584\\rfloor=2\n",
    "$$\n",
    "\n",
    "We test the hypothesis that the height of a 6 element heap is 2:\n",
    "Minimum:\n",
    "$$\n",
    "2^2 = 4\n",
    "$$\n",
    "\n",
    "Maximum:\n",
    "$$\n",
    "2^3-1=7\n",
    "$$\n",
    "\n",
    "It turns out to be true"
   ]
  },
  {
   "cell_type": "markdown",
   "metadata": {},
   "source": [
    "### 6.1-3\n",
    "Show that in any subtree of a max-heap, the root of the subtree contains the largest value occuring anywhere in that subtree"
   ]
  },
  {
   "cell_type": "markdown",
   "metadata": {},
   "source": [
    "#### Solution\n",
    "The max-heap property dictates: every node is less than or equal to its parent.\n",
    "\n",
    "Therefore, no matter where we make a subtree, the highest node (the root) will have the largest value, as its childrens values are lesser, and their childrens values are lesser, and so on."
   ]
  },
  {
   "cell_type": "markdown",
   "metadata": {},
   "source": [
    "### 6.1-4\n",
    "Where in a max-heap might the smallest element reside, assuming that all elements are distinct?"
   ]
  },
  {
   "cell_type": "markdown",
   "metadata": {},
   "source": [
    "#### Solution\n",
    "The smallest element in a max-heap will always reside in the last position, as the array will be continuously decreasing"
   ]
  },
  {
   "cell_type": "markdown",
   "metadata": {},
   "source": [
    "### 6.1-5\n",
    "Is an array that is in sorted order a min-heap?"
   ]
  },
  {
   "cell_type": "markdown",
   "metadata": {},
   "source": [
    "#### Solution\n",
    "If it in non-decreasing order, it would be a min-heap. In non-increasing order, it would be a max-heap"
   ]
  },
  {
   "cell_type": "markdown",
   "metadata": {},
   "source": [
    "### 6.1-6\n",
    "Is the array with values $\\langle23,17,14,6,13,10,1,5,7,12\\rangle$ a max-heap?"
   ]
  },
  {
   "cell_type": "markdown",
   "metadata": {},
   "source": [
    "#### Solution\n",
    "![](6.1-6.png)\n",
    "\n",
    "The array is not a max-heap, as it is not sorted in a non-increasing order. Furthermore, 7 is a child of 6, which means the property does not hold"
   ]
  },
  {
   "cell_type": "markdown",
   "metadata": {},
   "source": [
    "### 6.1-7\n",
    "Show that, with the array representation for storing an _n_-element heap, the leaves are the nodes indexed by $\\lfloor n/2\\rfloor+1,\\lfloor n/2\\rfloor+2,...,n$"
   ]
  },
  {
   "cell_type": "markdown",
   "metadata": {},
   "source": [
    "#### Solution\n",
    "Since a heap is binary, half of its elements will be nodes, and in the array representation, nodes are always at the end, meaning that the leaves are indexed by\n",
    "$$\n",
    "\\lfloor n/2\\rfloor+1,\\lfloor n/2\\rfloor+2,...,n\n",
    "$$"
   ]
  },
  {
   "cell_type": "markdown",
   "metadata": {},
   "source": [
    "### 6.2-1\n",
    "Using the figure below as a model, illustrate the operation of MAX-HEAPIFY(A,3) on the array $A = \\langle 27,17,3,16,13,10,1,5,7,12,4,8,9,0 \\rangle$\n",
    "![](6.2-1_ex.png)"
   ]
  },
  {
   "cell_type": "markdown",
   "metadata": {},
   "source": [
    "#### Solution\n",
    "![](6.2-1.png)"
   ]
  },
  {
   "cell_type": "markdown",
   "metadata": {},
   "source": [
    "### 6.2-2\n",
    "Starting with the procedure MAX-HEAPIFY, write psuedocode for the procedure MIN-HEAPIFY(A,i), which performs the corresponding manipulation on a min-heap. How does the running time of MIN-HEAPIFY compare to that of MAX-HEAPIFY?\n",
    "\n",
    "```\n",
    "MAX-HEAPIFY(A,i)\n",
    "\tl = LEFT(i)\n",
    "\tr = RIGHT(i)\n",
    "\tif l <= A.heap-size and A[l] > A[i]\n",
    "\t\tlargest = l\n",
    "\telse largest = i\n",
    "\tif r <= A.heap-size and A[r] > A[largest]\n",
    "\t\tlargest = r\n",
    "\tif largest != i\n",
    "\t\texchange A[i] with A[largest]\n",
    "\t\tMAX-HEAPIFY(A, largest)\n",
    "```"
   ]
  },
  {
   "cell_type": "markdown",
   "metadata": {},
   "source": [
    "#### Solution\n",
    "```\n",
    "MIN-HEAPIFY(A,i)\n",
    "\tl = LEFT(i)\n",
    "\tr = RIGHT(i)\n",
    "\tif l <= A.heap-size and A[l] < A[i]\n",
    "\t\tleast = l\n",
    "\telse least = i\n",
    "\tif r <= A.heap-size and A[r] < A[least]\n",
    "\t\tleast = r\n",
    "\tif least != i\n",
    "\t\texchange A[i] with A[least]\n",
    "\t\tMIN-HEAPIFY(A, least)\n",
    "```\n",
    "\n",
    "The running time is the same, as only some inequalities have been reversed."
   ]
  },
  {
   "cell_type": "markdown",
   "metadata": {},
   "source": [
    "### 6.2-3\n",
    "What is the effect of calling MAX-HEAPIFY(A,i) when the element $A[i]$ is larger than its children?"
   ]
  },
  {
   "cell_type": "markdown",
   "metadata": {},
   "source": [
    "#### Solution\n",
    "Nothing. The algorithm terminates without exchanging any elements."
   ]
  },
  {
   "cell_type": "markdown",
   "metadata": {},
   "source": [
    "### 6.2-4\n",
    "What is the effect of calling MAX-HEAPIFY(A,i) for $i>A.\\text{heap-size}/2$?"
   ]
  },
  {
   "cell_type": "markdown",
   "metadata": {},
   "source": [
    "#### Solution\n",
    "Calling MAX-HEAPIFY on a node with index greather than half the heap, means you are calling it on a child. Once again, the algorithm would terminate without exchanging any elements."
   ]
  },
  {
   "cell_type": "markdown",
   "metadata": {},
   "source": [
    "### 6.2-5\n",
    "The code for MAX-HEAPIFY is quite efficient in terms of constant factors, except possibly for the recursive call in line 10, which might cause some compilers to produce inefficient code. Write an efficient MAX-HEAPIFY that uses and iterative control construct (a loop) instead of recursion."
   ]
  },
  {
   "cell_type": "markdown",
   "metadata": {},
   "source": [
    "#### Solution\n",
    "```\n",
    "MAX-HEAPIFY-ITERATIVE(A,i)\n",
    "    for j = floor(lg(i)) to floor(lg(A.heap-size))\n",
    "\t\tl = LEFT(i)\n",
    "\t\tr = RIGHT(i)\n",
    "\t\tif l <= A.heap-size and A[l] > A[i]\n",
    "\t\t\tlargest = l\n",
    "\t\telse largest = i\n",
    "\t\tif r <= A.heap-size and A[r] > A[largest]\n",
    "\t\t\tlargest = r\n",
    "\t\tif largest != i\n",
    "\t\t\texchange A[i] with A[largest]\n",
    "\t\t\ti = largest\n",
    "\t\t\tcontinue\n",
    "\t\tbreak\n",
    "```"
   ]
  },
  {
   "cell_type": "markdown",
   "metadata": {},
   "source": [
    "### 6.2-6\n",
    "Show that the worst-case running time of MAX-HEAPIFY on a heap of size _n_ is $\\Omega(\\lg n)$. (Hint: For a heap with _n_ nodes, give node values that cause MAX-HEAPIFY to be called recursively at every node on a simple path from the root down to a leaf)"
   ]
  },
  {
   "cell_type": "markdown",
   "metadata": {},
   "source": [
    "#### Solution\n",
    "The reccurrence of MAX-HEAPIFY is $T(n)\\le T(2n/3) + \\Theta(1)$\n",
    "\n",
    "Using the master theorem:\n",
    "$a=1, b=\\frac{2}{3}, f(n) = 1$\n",
    "\n",
    "$$\n",
    "n^{log_{\\frac{2}{3}}1} = n^0 = 1\n",
    "$$\n",
    "\n",
    "Since $n^{log{b}a} = f(n)$, the running time becomes $\\Theta(f(n)\\lg n) = \\Theta(1\\lg n) = \\Theta(\\lg n)$.\n",
    "\n",
    "Since $\\Theta(\\lg n)$ is a tight bound, MAX-HEAPIFY is, by definition both $O(\\lg n)$ and $\\Omega(\\lg n)$"
   ]
  }
 ],
 "metadata": {
  "interpreter": {
   "hash": "5fde0877561fcfb8d1d4d7aca922819fbede693288f33a28f5e442fa18cdad0a"
  },
  "kernelspec": {
   "display_name": "Python 3.9.7 ('ADSSE')",
   "language": "python",
   "name": "python3"
  },
  "language_info": {
   "name": "python",
   "version": "3.9.7"
  },
  "orig_nbformat": 4
 },
 "nbformat": 4,
 "nbformat_minor": 2
}
