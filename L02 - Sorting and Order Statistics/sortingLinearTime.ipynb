{
 "cells": [
  {
   "cell_type": "markdown",
   "metadata": {},
   "source": [
    "# Sorting in Linear Time Exercises\n",
    "\n",
    "## 1\n",
    "Using the following figure as a model, illustrate the operation of Counting-Sort on the array $A = \\langle 6, 0, 2, 0, 1, 3, 4, 6, 1, 3, 2\\rangle$.\n",
    "\n",
    "![](8.2.png)\n",
    "\n",
    "### Solution\n",
    "![](linear1.png)\n"
   ]
  },
  {
   "cell_type": "markdown",
   "metadata": {},
   "source": [
    "## 2\n",
    "Using the figure below as an example, illustrate the operation of Radix-Sort on the following list of English words: COW, DOG, SEA, RUG, ROW, MOB, BOX, TAB, BAR, EAR, TAR, DIG, BIG, TEA, NOW, FOX.\n",
    "\n",
    "![](8.3.png)\n",
    "\n",
    "### Solution\n",
    "![](linear2.png)"
   ]
  },
  {
   "cell_type": "markdown",
   "metadata": {},
   "source": [
    "## 3\n",
    "\n",
    "Which of the following sorting algorithms are stable: insertion sort, merge sort, heapsort, and quicksort? Give a simple scheme that makes any sorting algorithm stable. How much additional time and space does your scheme entail?\n",
    "\n",
    "### Solution\n",
    "INSERTION-SORT and MERGE-SORT are stable"
   ]
  },
  {
   "cell_type": "markdown",
   "metadata": {},
   "source": [
    "## 4\n",
    "Use induction to prove that radix sort works. Where does your proof need the assumption that the intermediate sort is stable?"
   ]
  }
 ],
 "metadata": {
  "language_info": {
   "name": "python"
  },
  "orig_nbformat": 4
 },
 "nbformat": 4,
 "nbformat_minor": 2
}
