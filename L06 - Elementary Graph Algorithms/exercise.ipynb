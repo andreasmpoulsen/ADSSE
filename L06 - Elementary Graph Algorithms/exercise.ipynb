{
 "cells": [
  {
   "cell_type": "markdown",
   "metadata": {},
   "source": [
    "# Exercise\n",
    "\n",
    "1. Implement the BFS, DFS, TOPOLOGICAL-SORT and STRONGLY-CONNECTED-COMPONENTS algorithms described in the slides and in chapter 22 of the textbook in your favourite programming language and test them on the examples shown in the figures. Make sure you get the same results as given in the text"
   ]
  },
  {
   "cell_type": "code",
   "execution_count": 7,
   "metadata": {},
   "outputs": [
    {
     "name": "stdout",
     "output_type": "stream",
     "text": [
      "A B C D E F "
     ]
    }
   ],
   "source": [
    "\"\"\"\n",
    "Breadth-First Search (BFS)\n",
    "\n",
    "# Parameters\n",
    "G:\n",
    "    Input graph\n",
    "s:\n",
    "    Selected vertex\n",
    "\n",
    "# Returns\n",
    "A breadth-first tree, rooted on s\n",
    "\"\"\"\n",
    "\n",
    "def BFS(G, s):\n",
    "    Q = []\n",
    "    V = []\n",
    "\n",
    "    Q.append(s)\n",
    "    V.append(s)\n",
    "\n",
    "    while Q:\n",
    "        v = Q.pop(0)\n",
    "        print(v, end = \" \")\n",
    "\n",
    "        for neighbor in G[v]:\n",
    "            if neighbor not in V:\n",
    "                V.append(neighbor)\n",
    "                Q.append(neighbor)\n",
    "\n",
    "\n",
    "if __name__ == \"__main__\":\n",
    "    graph = {\n",
    "        'A' : ['B','C'],\n",
    "        'B' : ['D', 'E'],\n",
    "        'C' : ['F'],\n",
    "        'D' : [],\n",
    "        'E' : ['F'],\n",
    "        'F' : []\n",
    "    }\n",
    "\n",
    "    BFS(graph, 'A')\n",
    "\n"
   ]
  },
  {
   "cell_type": "code",
   "execution_count": 8,
   "metadata": {},
   "outputs": [
    {
     "name": "stdout",
     "output_type": "stream",
     "text": [
      "A B D E F C "
     ]
    }
   ],
   "source": [
    "\"\"\"\n",
    "Depth-First Search (DFS)\n",
    "\n",
    "# Parameters\n",
    "G:\n",
    "    Input graph\n",
    "u:\n",
    "    Selected vertex\n",
    "V:\n",
    "    List of visited nodes\n",
    "\n",
    "# Returns\n",
    "A depth-first tree, rooted on u\n",
    "\"\"\"\n",
    "\n",
    "V = []\n",
    "\n",
    "def DFS(G, u, V):\n",
    "    if u not in V:\n",
    "        print(u, end=\" \")\n",
    "        V.append(u)\n",
    "\n",
    "        for child in G[u]:\n",
    "            DFS(G, child, V)\n",
    "        \n",
    "if __name__ == \"__main__\":\n",
    "    graph = {\n",
    "        'A' : ['B','C'],\n",
    "        'B' : ['D', 'E'],\n",
    "        'C' : ['F'],\n",
    "        'D' : [],\n",
    "        'E' : ['F'],\n",
    "        'F' : []\n",
    "    }\n",
    "\n",
    "    DFS(graph, 'A', V)"
   ]
  }
 ],
 "metadata": {
  "interpreter": {
   "hash": "b89b5cfaba6639976dc87ff2fec6d58faec662063367e2c229c520fe71072417"
  },
  "kernelspec": {
   "display_name": "Python 3.10.3 64-bit",
   "language": "python",
   "name": "python3"
  },
  "language_info": {
   "codemirror_mode": {
    "name": "ipython",
    "version": 3
   },
   "file_extension": ".py",
   "mimetype": "text/x-python",
   "name": "python",
   "nbconvert_exporter": "python",
   "pygments_lexer": "ipython3",
   "version": "3.10.3"
  },
  "orig_nbformat": 4
 },
 "nbformat": 4,
 "nbformat_minor": 2
}
