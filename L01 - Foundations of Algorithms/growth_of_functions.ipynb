{
 "cells": [
  {
   "cell_type": "markdown",
   "metadata": {},
   "source": [
    "# Exercises for Lecture 1: Growth of Functions\n",
    "\n",
    "Following taken from page 50 of Cormen et al. (2001)\n",
    "\n",
    "## Exercises\n",
    "\n",
    "### 3.1-1\n",
    "Let $f(n)$ and $g(n)$ be asymptotically nonnegative functions. Using the basic definition of $\\Theta$-notation, prove that $\\max(f(n),g(n)) = \\Theta(f(n)+g(n))$.\n",
    "\n",
    "#### Answer\n",
    "\n",
    "\n",
    "### 3.1-2\n",
    "Show that for any real constants $a$ and $b$, where $b>0$,\n",
    "$$\n",
    "(n+a)^b=\\Theta(n^b)\n",
    "$$\n",
    "\n",
    "#### Answer\n",
    "Here, $a$ is just a constant, so it can be ignored, and the result is an asymptotically tight upper and lower bound of $n$ to the $b$-th order.\n",
    "\n",
    "### 3.1-3\n",
    "Explain why the statement, \"The running time of an algorithm $A$ is at least $O(n^2)$,\" is meaningless\n",
    "\n",
    "#### Answer\n",
    "This statement only concludes an upper bound of the algorithm, but it is not necesarrily tight, so any upper bound more rapid than $n^2$ would be valid as well. Meanwhile, there could easily be cases for the algorithm where the running time is faster than $O(n^2)$, since it only describes the running time for the worst case. So in reality, all other options are still available from this statement.\n",
    "\n",
    "### 3.1-4\n",
    "* Is $2^{n+1} = O(2^n)$?\n",
    "* Is $2^{2n} = O(2^n)$?\n",
    "\n",
    "#### Answer\n",
    "* Yes, the $1$ has such a small effect for larger $n$, that it can be neglected\n",
    "* No, the $2$ means that $n$ will always be doubled, so that will have a big enough effect that it should be accounted for\n",
    "\n",
    "### 3.1-5\n",
    "Prove Theorem 3.1.\n",
    "\n",
    "#### Answer\n",
    "\n",
    "### 3.1-6\n",
    "Prove that the running time of an algorithm is $\\Theta(g(n))$ if and only if its worst-case running time is $O(g(n))$ and its best-case running time is $\\Omega(g(n))$.\n",
    "\n",
    "#### Answer\n",
    "Since $\\Theta$ represents both upper and lower bounds, it is necessary for $O$ and $\\Omega$ to be the same, asymptotically tight bounds on $g(n)$\n",
    "\n",
    "### 3.1-7\n",
    "Prove that $o(g(n)) \\cap \\omega(g(n))$ is the empty set.\n",
    "\n",
    "#### Answer\n",
    "$o$ and $\\omega$ are both strictly lose bounds on $g(n)$, so by definition, there is no intersection between the two.\n"
   ]
  }
 ],
 "metadata": {
  "language_info": {
   "name": "python"
  },
  "orig_nbformat": 4
 },
 "nbformat": 4,
 "nbformat_minor": 2
}
