{
 "cells": [
  {
   "cell_type": "markdown",
   "metadata": {},
   "source": [
    "# Sorting in Linear Time Exercises\n",
    "\n",
    "## 1\n",
    "Suppose we use Randomize-Select to select the minimum element of the array $A = \\langle 3, 2, 9, 0, 7, 5, 4, 8, 6, 1\\rangle$. Describe a sequence of partitions that results in a worst-case performance of Randomize-Select.\n",
    "\n",
    "### Solution\n",
    "The worst case of RANDOMIZED-SELECT is when we partition around the largest element.\n",
    "\n",
    "So if the first pivot is 9, the partitions would be:\n",
    "$l = \\langle 3, 2, 1, 0, 7, 5, 4, 8, 6\\rangle, r = \\langle\\rangle$\n",
    "\n",
    "Then, the next pivot is 8:\n",
    "$l = \\langle 3, 2, 1, 0, 7, 5, 4, 6\\rangle, r = \\langle\\rangle$\n",
    "\n",
    "Next is 7:\n",
    "$l = \\langle 3, 2, 1, 0, 6, 5, 4\\rangle, r = \\langle\\rangle$\n",
    "\n",
    "6:\n",
    "$l = \\langle 3, 2, 1, 0, 4, 5\\rangle, r = \\langle\\rangle$\n",
    "\n",
    "5:\n",
    "$l = \\langle 3, 2, 1, 0, 4\\rangle, r = \\langle\\rangle$\n",
    "\n",
    "4:\n",
    "$l = \\langle 3, 2, 1, 0\\rangle, r = \\langle\\rangle$\n",
    "\n",
    "3:\n",
    "$l = \\langle 0, 2, 1\\rangle, r = \\langle\\rangle$\n",
    "\n",
    "2:\n",
    "$l = \\langle 0, 1\\rangle, r = \\langle\\rangle$\n",
    "\n",
    "1: $l = \\langle 0\\rangle, r = \\langle\\rangle$"
   ]
  },
  {
   "cell_type": "markdown",
   "metadata": {},
   "source": [
    "## 2\n",
    "In the algorithm SELECT, the input elements are divided into groups of 5. Will the algorithm work in linear time if they are divided into groups of 7? Argue that Select does not run in linear time if groups of 3 are used."
   ]
  },
  {
   "cell_type": "markdown",
   "metadata": {},
   "source": [
    "## 3\n",
    "Show how QUICKSORT can be made to run in $O(n\\lg n)$ time in the worst case, assuming that all elements are distinct\n",
    "\n",
    "### Solution\n",
    "The worst case running time of QUICKSORT happens when the array is already sorted, because the partition would be one-sided.\n",
    "\n",
    "If we were to use the PARTITION algorithm from SELECT, the pivot would be the median, and that would guarantee equally sized partitions for QUICKSORT, and thus always give a best-case running time ($O(n\\lg n)$)"
   ]
  }
 ],
 "metadata": {
  "interpreter": {
   "hash": "5fde0877561fcfb8d1d4d7aca922819fbede693288f33a28f5e442fa18cdad0a"
  },
  "kernelspec": {
   "display_name": "Python 3.9.7 ('ADSSE')",
   "language": "python",
   "name": "python3"
  },
  "language_info": {
   "codemirror_mode": {
    "name": "ipython",
    "version": 3
   },
   "file_extension": ".py",
   "mimetype": "text/x-python",
   "name": "python",
   "nbconvert_exporter": "python",
   "pygments_lexer": "ipython3",
   "version": "3.9.7"
  },
  "orig_nbformat": 4
 },
 "nbformat": 4,
 "nbformat_minor": 2
}
