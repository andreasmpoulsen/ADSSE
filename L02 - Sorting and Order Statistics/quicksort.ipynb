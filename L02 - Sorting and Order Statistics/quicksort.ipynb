{
 "cells": [
  {
   "cell_type": "markdown",
   "metadata": {},
   "source": [
    "# Quicksort Exercises\n",
    "\n",
    "## 1\n",
    "Show that the running time of QUICKSORT is $\\Theta(n^2)$ when the array _A_ contains distinct elements and is sorted in decreasing order.\n",
    "\n",
    "### Solution\n",
    "In this case, partioning will make one partition with $n-1$ elements, and one partition with $0$ elements.\n",
    "\n",
    "This gives the following reccurrence:\n",
    "$$\n",
    "T(n)=T(n-1)+T(0)+\\Theta(n)=T(n+1)+\\Theta(n)\n",
    "$$\n",
    "\n",
    "Now, if we sum the cost on each level, we get:\n",
    "$$\n",
    "\\sum^n_{i=1}i=n(n-1)/2=\\Theta(n^2)\n",
    "$$\n",
    "\n",
    "Which is the running time of QUICKSORT in the worst case."
   ]
  },
  {
   "cell_type": "markdown",
   "metadata": {},
   "source": [
    "## 2\n",
    "Suppose that the splits at every level of QUICKSORT are in the proportion $1-\\alpha$ to $\\alpha$, where $0<\\alpha\\le 1/2$ is a constant. Show that the minimum depth of a leaf in the recursion tree is approximately $-\\lg n/\\lg\\alpha$ and that the maximum depth is approximately $-\\lg n/\\lg(1-\\alpha)$. (Don't worry about integer round-off.)"
   ]
  },
  {
   "cell_type": "markdown",
   "metadata": {},
   "source": [
    "## 3\n",
    "The original partition algorithm is:\n",
    "\n",
    "```\n",
    "HOARE-PARTITION(A,p,r)\n",
    "    x = A[p]\n",
    "    i = p - 1\n",
    "    j = r + 1\n",
    "    while TRUE\n",
    "        repeat\n",
    "        j = j - 1\n",
    "        until A[j] <= x\n",
    "        repeat\n",
    "            i = i + 1\n",
    "        until A[i] >= x\n",
    "        if i < j\n",
    "            exchange A[i] with A[j]\n",
    "        else return j\n",
    "```\n",
    "\n",
    "### a\n",
    "Demonstrate the operation of HOARE-PARTITION on the array $A=\\langle 13,19,9,5,12,8,7,4,11,2,6,21\\rangle$, showing the values of the array and auxiliary values after each iteration of the while loop.\n",
    "\n",
    "#### Solution\n",
    "$A=\\langle 13,19,9,5,12,8,7,4,11,2,6,21\\rangle, p = 0, r = 11$\n",
    "$$\n",
    "x = A[p] = A[0] = 13\n",
    "$$\n",
    "$$\n",
    "i = p - 1 = 0 - 1 = -1\n",
    "$$\n",
    "$$\n",
    "j = r + 1 = 11 + 1 = 12\n",
    "$$\n",
    "REPEAT $j = j - 1$ UNTIL $A[j] \\le x$:\n",
    "\n",
    "After one decrement, $j = 12 - 1 = 11$, and $A[11] = 21$, so the condition is fulfilled\n",
    "\n",
    "REPEAT $i = i + 1$ UNTIL $A[i]\\ge x$:\n",
    "\n",
    "After one increment, $i = -1 + 1 = 0$, and $A[1] = 13$, so the condition is fulfilled\n",
    "\n",
    "IF $i < j$ EXCHANGE $A[i]$ with $A[j]$:\n",
    "\n",
    "$A=\\langle 21,19,9,5,12,8,7,4,11,2,6,13\\rangle$\n",
    "\n",
    "REPEAT $j = j - 1$ UNTIL $A[j] \\le x$:\n",
    "\n",
    "After ten decrements, $j = 11 - 10 = 1$, and $A[1] = 19$, so the condition is fulfilled\n",
    "\n",
    "REPEAT $i = i + 1$ UNTIL $A[i]\\ge x$:\n",
    "\n",
    "After one increment, $i = 0 + 1 = 1$, and $A[1] = 19$, so the condition is fulfilled\n",
    "\n",
    "IF $i < j$ EXCHANGE $A[i]$ with $A[j]$:\n",
    "\n",
    "$i = j$, so return $j$\n"
   ]
  },
  {
   "cell_type": "markdown",
   "metadata": {},
   "source": [
    "Assuming that the subarray $A[p..r]$ contains at least two elements, prove the following:\n",
    "### b\n",
    "The indices _i_ and _j_ are such that we never access an element of _A_ outside the subarray $A[p..r]$\n",
    "\n",
    "### c\n",
    "When HOARE-PARTITION terminates, it returns a value _j_ such that $p\\le j<r$\n",
    "\n",
    "### d\n",
    "Every element of $A[p..j]$ is less than or equal to every element of $A[j+1..r]$ when HOARE-PARTITION terminates"
   ]
  }
 ],
 "metadata": {
  "language_info": {
   "name": "python"
  },
  "orig_nbformat": 4
 },
 "nbformat": 4,
 "nbformat_minor": 2
}
