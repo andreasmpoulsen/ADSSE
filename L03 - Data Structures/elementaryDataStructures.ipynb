{
 "cells": [
  {
   "cell_type": "markdown",
   "metadata": {},
   "source": [
    "# Elementary Data Structures Exercises\n",
    "\n",
    "## 1\n",
    "Rewrite\tENQUEUE and\tDEQUEUE\tto detect underflow and overflow.\n",
    "\n",
    "```\n",
    "ENQUEUE(Q,x)\n",
    "\tQ[Q.tail] = x\n",
    "\tif Q.tail == Q.length\n",
    "\t\tQ.tail = 1\n",
    "\telse Q.tail = Q.tail + 1\n",
    "```\n",
    "\n",
    "```\n",
    "DEQUEUE(Q)\n",
    "\tx = Q[Q.head]\n",
    "\tif Q.head == Q.length\n",
    "\t\tQ.head = 1\n",
    "\telse Q.head = Q.head + 1\n",
    "\treturn x\n",
    "```"
   ]
  }
 ],
 "metadata": {
  "language_info": {
   "name": "python"
  },
  "orig_nbformat": 4
 },
 "nbformat": 4,
 "nbformat_minor": 2
}
